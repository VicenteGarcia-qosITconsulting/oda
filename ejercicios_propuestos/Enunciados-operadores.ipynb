{
 "cells": [
  {
   "cell_type": "markdown",
   "metadata": {},
   "source": [
    "# Tema 02: Operadores y expresiones (Enunciados)\n",
    "*Nota: Estos ejercicios son optativos para hacer al final de la unidad y están pensados para apoyar tu aprendizaje*."
   ]
  },
  {
   "cell_type": "markdown",
   "metadata": {},
   "source": [
    "**1) Realiza un programa que lea 2 números por teclado y determine los siguientes aspectos (es suficiene con mostrar True o False):**\n",
    "* Si los dos números son iguales\n",
    "* Si los dos números son diferentes\n",
    "* Si el primero es mayor que el segundo\n",
    "* Si el segundo es mayor o igual que el primero"
   ]
  },
  {
   "cell_type": "code",
   "execution_count": 1,
   "metadata": {},
   "outputs": [
    {
     "name": "stdout",
     "output_type": "stream",
     "text": [
      "Introduce un número entero: 2\n",
      "Introduce otro número entero: 2\n",
      "Son los dos números iguales: True\n",
      "Son los dos números diferentes: False\n",
      "El primero es mayor que el segundo: False\n",
      "El segundo es mayor o igual que el primero: True\n"
     ]
    }
   ],
   "source": [
    "# Completa el ejercicio aquí\n",
    "num1 = float(input(\"Ingresa el primer número: \"))\n",
    "num2 = float(input(\"Ingresa el segundo número: \"))\n",
    "\n",
    "print(f\"¿Son iguales?: {num1 == num2}\")\n",
    "print(f\"¿Son diferentes?:{ num1 != num2}\")\n",
    "print(f\"¿Primero mayor que el segundo?: {num1 > num2}\")\n",
    "print(f\"¿Segundo mayor o igual que el primero?: {num2 >= num1}\")"
   ]
  },
  {
   "cell_type": "markdown",
   "metadata": {},
   "source": [
    "**2) Utilizando operadores lógicos, determina si una cadena de texto introducida por el usuario tiene una longitud mayor o igual que 3 y a su vez es menor que 10 (es suficiene con mostrar True o False):**"
   ]
  },
  {
   "cell_type": "code",
   "execution_count": null,
   "metadata": {},
   "outputs": [],
   "source": [
    "# Completa el ejercicio aquí\n",
    "cadena = input(\"Introduce una cadena de texto: \")\n",
    "print(len(cadena) >= 3 and len(cadena) < 10)"
   ]
  },
  {
   "cell_type": "markdown",
   "metadata": {},
   "source": [
    "**3) Realiza un programa que cumpla el siguiente algoritmo utilizando siempre que sea posible operadores en asignación:**\n",
    "* Guarda en una variable numero_magico el valor 12345679 (sin el 8)\n",
    "* Lee por pantalla otro numero_usuario, especifica que sea entre 1 y 9 (asegúrate que es un número)\n",
    "* Multiplica el numero_usuario por 9 en sí mismo\n",
    "* Multiplica el numero_magico por el numero_usuario en sí mismo\n",
    "* Finalmente muestra el valor final del numero_magico por pantalla\n"
   ]
  },
  {
   "cell_type": "code",
   "execution_count": null,
   "metadata": {},
   "outputs": [],
   "source": [
    "# Completa el ejercicio aquí\n",
    "numero_magico = 12345679\n",
    "\n",
    "while True:\n",
    "    try:\n",
    "        numero_usuario = int(input(\"Introduce un número entre 1 y 9: \"))\n",
    "        if 1 <= numero_usuario <= 9:\n",
    "            break\n",
    "        else:\n",
    "            print(\"El número debe estar entre 1 y 9\")\n",
    "    except ValueError:\n",
    "        print(\"Error: Introduce un número entero válido.\")\n",
    "\n",
    "numero_usuario *= 9\n",
    "numero_magico *= numero_usuario\n",
    "\n",
    "print(f\"Resultado final: {numero_magico}\")\n"
   ]
  }
 ],
 "metadata": {
  "anaconda-cloud": {},
  "kernelspec": {
   "display_name": "Python 3",
   "language": "python",
   "name": "python3"
  },
  "language_info": {
   "codemirror_mode": {
    "name": "ipython",
    "version": 3
   },
   "file_extension": ".py",
   "mimetype": "text/x-python",
   "name": "python",
   "nbconvert_exporter": "python",
   "pygments_lexer": "ipython3",
   "version": "3.7.1"
  }
 },
 "nbformat": 4,
 "nbformat_minor": 2
}
