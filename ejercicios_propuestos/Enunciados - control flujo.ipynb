{
 "cells": [
  {
   "cell_type": "markdown",
   "metadata": {},
   "source": [
    "# Tema 03: Control de flujo (Enunciados)\n",
    "*Nota: Estos ejercicios son optativos para hacer al final de la unidad y están pensados para apoyar tu aprendizaje*."
   ]
  },
  {
   "cell_type": "markdown",
   "metadata": {},
   "source": [
    "**1) Realiza un programa que lea dos números por teclado y permita elegir entre 3 opciones en un menú:** \n",
    "* Mostrar una suma de los dos números\n",
    "* Mostrar una resta de los dos números (el primero menos el segundo)\n",
    "* Mostrar una multiplicación de los dos números\n",
    "* En caso de no introducir una opción válida, el programa informará de que no es correcta."
   ]
  },
  {
   "cell_type": "code",
   "execution_count": null,
   "metadata": {},
   "outputs": [],
   "source": [
    "# Completa el ejercicio aquí\n",
    "menu = True\n",
    "while menu:\n",
    "    print(\"\"\"Elija una opción:\n",
    "    1 - Sumar dos números\n",
    "    2 - Restar dos números\n",
    "    3 - Multiplicar dos números\n",
    "    4 - Salir\n",
    "    \"\"\")\n",
    "\n",
    "    opcion = input(\"Elige: \")\n",
    "\n",
    "    if not opcion.isdigit():\n",
    "        print(\"Opción no válida. Introduce un número del 1 al 4.\")\n",
    "\n",
    "    opcion = int(opcion)\n",
    "\n",
    "    if opcion == 1:\n",
    "        print(\"Sumar dos números\")\n",
    "        num1 = input(\"Introduce el primer número: \")\n",
    "        num2 = input(\"Introduce el segundo número: \")\n",
    "\n",
    "        if not num1.isdigit() or not num2.isdigit():\n",
    "            print(\"Introduce un numero correcto\")\n",
    "        else:\n",
    "            suma=int(num1)+ int(num2)\n",
    "            print(f\"La suma de {num1} + {num2} es = {suma}\")\n",
    "            break\n",
    "\n",
    "    elif opcion == 2:\n",
    "        print(\"Restar dos números\")\n",
    "        num1 = input(\"Introduce el primer número: \")\n",
    "        num2 = input(\"Introduce el segundo número: \")\n",
    "\n",
    "        if not num1.isdigit() or not num2.isdigit():\n",
    "            print(\"Introduce un numero correcto\")\n",
    "        else:\n",
    "            resta=int(num1) - int(num2)\n",
    "            print(f\"La resta de {num1} - {num2} es = {resta}\")\n",
    "            break\n",
    "\n",
    "    elif opcion == 3:\n",
    "        print(\"Multiplicar dos números\")\n",
    "        num1 = input(\"Introduce el primer número: \")\n",
    "        num2 = input(\"Introduce el segundo número: \")\n",
    "\n",
    "        if not num1.isdigit() or not num2.isdigit():\n",
    "            print(\"Introduce un numero correcto\")\n",
    "        else:\n",
    "            mult=int(num1) * int(num2)\n",
    "            print(f\"La multiplicacion de {num1} x {num2} es = {mult}\")\n",
    "            break\n",
    "\n",
    "    elif opcion == 4:\n",
    "        print(\"Saliendo del programa...\")\n",
    "        menu = False \n",
    "    else:\n",
    "        print(\"Opción no válida. Introduce un número del 1 al 4.\")\n"
   ]
  },
  {
   "cell_type": "markdown",
   "metadata": {},
   "source": [
    "**2) Realiza un programa que lea un número impar por teclado. Si el usuario no introduce un número impar, debe repetise el proceso hasta que lo introduzca correctamente.**"
   ]
  },
  {
   "cell_type": "code",
   "execution_count": null,
   "metadata": {},
   "outputs": [],
   "source": [
    "# Completa el ejercicio aquí\n",
    "menu = True\n",
    "while menu:\n",
    "    num = input(\"Introduce un número: \")\n",
    "\n",
    "    if num.isdigit():\n",
    "        num = int(num) \n",
    "        \n",
    "        if num % 2 == 0:\n",
    "            print(\"Has introducido un número par\")\n",
    "        else:\n",
    "            print(\"Has introducido un número impar!\")\n",
    "            break\n",
    "    else:\n",
    "        print(\"Por favor, introduce un número válido.\")\n"
   ]
  },
  {
   "cell_type": "markdown",
   "metadata": {},
   "source": [
    "**3) Realiza un programa que sume todos los números enteros pares desde el 0 hasta el 100:**\n",
    "\n",
    "*Sugerencia: Puedes utilizar la funciones sum() y range() para hacerlo más fácil. El tercer parámetro en la función range(inicio, fin, salto) indica un salto de números, pruébalo.*"
   ]
  },
  {
   "cell_type": "code",
   "execution_count": null,
   "metadata": {},
   "outputs": [],
   "source": [
    "# Completa el ejercicio aquí\n",
    "suma = 0\n",
    "\n",
    "for numero in range(0, 101, 2):\n",
    "    suma += numero\n",
    "\n",
    "print(f\"La suma de los números pares de 0 a 100 es: {suma}\")"
   ]
  },
  {
   "cell_type": "markdown",
   "metadata": {},
   "source": [
    "**4) Realiza un programa que pida al usuario cuantos números quiere introducir. Luego lee todos los números y realiza una media aritmética:**\n"
   ]
  },
  {
   "cell_type": "code",
   "execution_count": null,
   "metadata": {},
   "outputs": [],
   "source": [
    "# Completa el ejercicio aquí\n",
    "cantidad = int(input(\"¿Cuántos números quieres introducir? \"))\n",
    "\n",
    "suma = 0\n",
    "\n",
    "for i in range(cantidad):\n",
    "    numero = float(input(f\"Introduce el número {i + 1}: \"))\n",
    "    suma += numero\n",
    "\n",
    "if cantidad > 0:\n",
    "    media = suma / cantidad\n",
    "    print(f\"La media aritmética de los números es: {media}\")\n",
    "else:\n",
    "    print(\"Tienes que poner al menos un numero.\")\n"
   ]
  },
  {
   "cell_type": "markdown",
   "metadata": {},
   "source": [
    "**5) Realiza un programa que pida al usuario un número entero del 0 al 9, y que mientras el número no sea correcto se repita el proceso. Luego debe comprobar si el número se encuentra en la lista de números y notificarlo:**\n",
    "\n",
    "*Consejo: La sintaxis \"valor in lista\" permite comprobar fácilmente si un valor se encuentra en una lista (devuelve True o False)*"
   ]
  },
  {
   "cell_type": "code",
   "execution_count": null,
   "metadata": {},
   "outputs": [],
   "source": [
    "# Completa el ejercicio aquí\n",
    "numeros = [1, 3, 5, 7, 9] \n",
    "\n",
    "while True:\n",
    "    while True:\n",
    "        numero = int(input(\"Introduce un número entre 0 y 9: \"))\n",
    "        if 0 <= numero <= 9:\n",
    "            break\n",
    "        else:\n",
    "            print(\"Error: El número debe estar entre 0 y 9\")\n",
    "\n",
    "    esta_en_lista = numero in numeros\n",
    "    \n",
    "    print(f\"¿El número {numero} está en la lista? {esta_en_lista}\")\n",
    "    \n",
    "    if esta_en_lista:\n",
    "        break\n",
    "    else:\n",
    "        print(\"El número no está en la lista. Intenta de nuevo.\")\n",
    "    "
   ]
  },
  {
   "cell_type": "markdown",
   "metadata": {},
   "source": [
    "**6) Utilizando la función range() y la conversión a listas genera las siguientes listas dinámicamente:**\n",
    "* Todos los números del 0 al 10 [0, 1, 2, ..., 10]\n",
    "* Todos los números del -10 al 0 [-10, -9, -8, ..., 0]\n",
    "* Todos los números pares del 0 al 20 [0, 2, 4, ..., 20]\n",
    "* Todos los números impares entre -20 y 0 [-19, -17, -15, ..., -1]\n",
    "* Todos los números múltiples de 5 del 0 al 50 [0, 5, 10, ..., 50]\n",
    "\n",
    "*Pista: Utiliza el tercer parámetro de la función range(inicio, fin, salto).*"
   ]
  },
  {
   "cell_type": "code",
   "execution_count": null,
   "metadata": {},
   "outputs": [],
   "source": [
    "# Completa el ejercicio\n",
    "print(list(range(0,11)))\n",
    "print(list(range(-10,1,1)))\n",
    "print(list(range(0,21,2)))\n",
    "print(list(range(-19,1,2)))\n",
    "print(list(range(0,51,5)))"
   ]
  },
  {
   "cell_type": "markdown",
   "metadata": {},
   "source": [
    "**7) Dadas dos listas, debes generar una tercera con todos los elementos que se repitan en ellas, pero no debe repetise ningún elemento en la nueva lista:**"
   ]
  },
  {
   "cell_type": "code",
   "execution_count": null,
   "metadata": {},
   "outputs": [],
   "source": [
    "# Completa el ejercicio aquí\n",
    "lista1 = [1, 2, 3, 4, 5, 5, 6, 7]\n",
    "lista2 = [4, 5, 5, 6, 7, 8, 9, 10]\n",
    "\n",
    "lista3 = list(set(lista1) & set(lista2))\n",
    "\n",
    "print(\"Lista 1:\", lista1)\n",
    "print(\"Lista 2:\", lista2)\n",
    "print(\"Elementos que se repiten:\", lista3)\n"
   ]
  }
 ],
 "metadata": {
  "anaconda-cloud": {},
  "kernelspec": {
   "display_name": "Python 3",
   "language": "python",
   "name": "python3"
  },
  "language_info": {
   "codemirror_mode": {
    "name": "ipython",
    "version": 3
   },
   "file_extension": ".py",
   "mimetype": "text/x-python",
   "name": "python",
   "nbconvert_exporter": "python",
   "pygments_lexer": "ipython3",
   "version": "3.13.1"
  }
 },
 "nbformat": 4,
 "nbformat_minor": 4
}
