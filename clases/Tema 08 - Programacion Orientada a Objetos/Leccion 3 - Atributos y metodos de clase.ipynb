{
 "cells": [
  {
   "cell_type": "code",
   "execution_count": 1,
   "metadata": {},
   "outputs": [],
   "source": [
    "class Galleta:\n",
    "    pass\n",
    "\n",
    "una_galleta = Galleta()"
   ]
  },
  {
   "cell_type": "code",
   "execution_count": 2,
   "metadata": {},
   "outputs": [],
   "source": [
    "una_galleta.sabor = \"Salado\""
   ]
  },
  {
   "cell_type": "code",
   "execution_count": 3,
   "metadata": {},
   "outputs": [],
   "source": [
    "una_galleta.color = \"Marrón\""
   ]
  },
  {
   "cell_type": "code",
   "execution_count": 4,
   "metadata": {},
   "outputs": [
    {
     "name": "stdout",
     "output_type": "stream",
     "text": [
      "El sabor de esta galleta es  Salado\n"
     ]
    }
   ],
   "source": [
    "print(\"El sabor de esta galleta es \", una_galleta.sabor)"
   ]
  },
  {
   "cell_type": "markdown",
   "metadata": {},
   "source": [
    "### Definir los atributos en la clase"
   ]
  },
  {
   "cell_type": "code",
   "execution_count": 5,
   "metadata": {},
   "outputs": [
    {
     "data": {
      "text/plain": [
       "False"
      ]
     },
     "execution_count": 5,
     "metadata": {},
     "output_type": "execute_result"
    }
   ],
   "source": [
    "# Se define una clase galleta en la que por defecto las galletas que se creen no van a tener chocolate\n",
    "\n",
    "class Galleta:\n",
    "    chocolate = False\n",
    "    \n",
    "g = Galleta()\n",
    "g.chocolate"
   ]
  },
  {
   "cell_type": "code",
   "execution_count": 9,
   "metadata": {},
   "outputs": [
    {
     "data": {
      "text/plain": [
       "True"
      ]
     },
     "execution_count": 9,
     "metadata": {},
     "output_type": "execute_result"
    }
   ],
   "source": [
    "#Si quiero que la galleta lleve chocolate tengo que asignarlo\n",
    "g.chocolate = True\n",
    "g.chocolate"
   ]
  },
  {
   "cell_type": "markdown",
   "metadata": {},
   "source": [
    "Pero añadir de uno en uno los atributos es muy engorroso, lo interesante es hacerlo en el momento de definir los objetos.\n",
    "\n",
    "\n",
    "\n",
    "Método especial llamado init y la palabra reservada self\n",
    "\n",
    "__init__: El método init es un método especial que se **ejecuta al crear un objeto**. Permite enviarle argumentos durante la instanciación. Los métodos especiales se escriben siempre con dos barras bajas delante y dos barras bajas detrás.\n",
    "\n",
    "self: Esta palábra la tienen todos los métodos, sean especiales o no. Hace referencia al propio objeto y sirve para diferenciar entre el ámbito de clase y el de un método. Es un requisito implícito en todos los métodos, ya que por defecto al llamar cualquier método se pasa automáticamente al propio objeto. Esto ocurre de forma transparente en la llamada pero es obligatorio en la definición.\n",
    "\n"
   ]
  },
  {
   "cell_type": "code",
   "execution_count": 12,
   "metadata": {},
   "outputs": [
    {
     "name": "stdout",
     "output_type": "stream",
     "text": [
      "Se acaba de crear una galleta.\n"
     ]
    },
    {
     "data": {
      "text/plain": [
       "False"
      ]
     },
     "execution_count": 12,
     "metadata": {},
     "output_type": "execute_result"
    }
   ],
   "source": [
    "class Galleta():\n",
    "    chocolate = False\n",
    "    def __init__(self):\n",
    "        print(\"Se acaba de crear una galleta.\")\n",
    "\n",
    "g = Galleta()"
   ]
  },
  {
   "cell_type": "code",
   "execution_count": 13,
   "metadata": {
    "collapsed": true
   },
   "outputs": [
    {
     "name": "stdout",
     "output_type": "stream",
     "text": [
      "Se acaba de crear una galleta.\n"
     ]
    },
    {
     "data": {
      "text/plain": [
       "False"
      ]
     },
     "execution_count": 13,
     "metadata": {},
     "output_type": "execute_result"
    }
   ],
   "source": [
    "class Galleta():\n",
    "    chocolate = False\n",
    "    def __init__(self):\n",
    "        print(\"Se acaba de crear una galleta.\")\n",
    "        \n",
    "    def chocolatear(self):\n",
    "        chocolate = True #al no tener el self delante no hace referencia al atributo de la clase, sino a una variable interna \n",
    "                        # de la función chocolatear \n",
    "\n",
    "g = Galleta()\n",
    "g.chocolatear()\n",
    "g.chocolate  #No se cambia el valor de chocolate a True"
   ]
  },
  {
   "cell_type": "code",
   "execution_count": 19,
   "metadata": {},
   "outputs": [
    {
     "name": "stdout",
     "output_type": "stream",
     "text": [
      "Se acaba de crear una galleta.\n"
     ]
    },
    {
     "data": {
      "text/plain": [
       "<bound method Galleta.tiene_chocolate of <__main__.Galleta object at 0x0000029AC455E400>>"
      ]
     },
     "execution_count": 19,
     "metadata": {},
     "output_type": "execute_result"
    }
   ],
   "source": [
    "class Galleta():\n",
    "    chocolate = False\n",
    "    def __init__(self):\n",
    "        print(\"Se acaba de crear una galleta.\")\n",
    "        \n",
    "    def chocolatear(self):\n",
    "        self.chocolate = True #PAra poder acceder al atributo de clase tenemos que referirnos a él con un sefl.nombreAtributo\n",
    "\n",
    "    def tiene_chocolate(self):\n",
    "        if(self.chocolate):\n",
    "            print(\"Soy una galleta chocolateada :-)\")\n",
    "        else:\n",
    "            print(\"Soy una galleta sin chocolate :-(\")\n",
    "            \n",
    "            \n",
    "g = Galleta()\n",
    "g.tiene_chocolate\n",
    "g.chocolatear()\n",
    "g.tiene_chocolate"
   ]
  },
  {
   "cell_type": "code",
   "execution_count": 20,
   "metadata": {},
   "outputs": [],
   "source": [
    "class Galleta():\n",
    "    chocolate = False\n",
    "    def __init__(self, sabor, color):\n",
    "        self.sabor = sabor  #sel.sabor hace referencia a la clase y sabor al valor que proporcionan los argumentos de la función\n",
    "        self.color = color\n",
    "        print(\"Se acaba de crear una galleta {} {}.\".format(sabor, color))\n",
    "        \n",
    "    def chocolatear(self):\n",
    "        self.chocolate = True #PAra poder acceder al atributo de clase tenemos que referirnos a él con un sefl.nombreAtributo\n",
    "\n",
    "    def tiene_chocolate(self):\n",
    "        if(self.chocolate):\n",
    "            print(\"Soy una galleta chocolateada :-)\")\n",
    "        else:\n",
    "            print(\"Soy una galleta sin chocolate :-(\")\n",
    "        "
   ]
  },
  {
   "cell_type": "code",
   "execution_count": 21,
   "metadata": {},
   "outputs": [
    {
     "name": "stdout",
     "output_type": "stream",
     "text": [
      "Se acaba de crear una galleta salada marrón.\n"
     ]
    }
   ],
   "source": [
    "g = Galleta(\"salada\", \"marrón\") # los atributos que se definen en init son necesarios a la hora de crear el objeto, lo que sí se \n",
    "#puede es dar un valor por defecto."
   ]
  },
  {
   "cell_type": "code",
   "execution_count": 25,
   "metadata": {},
   "outputs": [
    {
     "name": "stdout",
     "output_type": "stream",
     "text": [
      "Se acaba de crear una galleta fresa rosa.\n"
     ]
    }
   ],
   "source": [
    "class Galleta():\n",
    "    chocolate = False\n",
    "    def __init__(self, sabor=None, color=None):\n",
    "        self.sabor = sabor  #sel.sabor hace referencia a la clase y sabor al valor que proporcionan los argumentos de la función\n",
    "        self.color = color\n",
    "        if sabor is not None and color is not None:\n",
    "            print(\"Se acaba de crear una galleta {} y {}.\".format(sabor, color))\n",
    "        \n",
    "    def chocolatear(self):\n",
    "        self.chocolate = True #PAra poder acceder al atributo de clase tenemos que referirnos a él con un sefl.nombreAtributo\n",
    "\n",
    "    def tiene_chocolate(self):\n",
    "        if(self.chocolate):\n",
    "            print(\"Soy una galleta chocolateada :-)\")\n",
    "        else:\n",
    "            print(\"Soy una galleta sin chocolate :-(\")\n",
    "g = Galleta()\n",
    "g = Galleta(sabor = 'fresa', color = 'rosa')"
   ]
  },
  {
   "cell_type": "code",
   "execution_count": null,
   "metadata": {},
   "outputs": [],
   "source": []
  }
 ],
 "metadata": {
  "kernelspec": {
   "display_name": "Python 3",
   "language": "python",
   "name": "python3"
  },
  "language_info": {
   "codemirror_mode": {
    "name": "ipython",
    "version": 3
   },
   "file_extension": ".py",
   "mimetype": "text/x-python",
   "name": "python",
   "nbconvert_exporter": "python",
   "pygments_lexer": "ipython3",
   "version": "3.7.1"
  }
 },
 "nbformat": 4,
 "nbformat_minor": 2
}
